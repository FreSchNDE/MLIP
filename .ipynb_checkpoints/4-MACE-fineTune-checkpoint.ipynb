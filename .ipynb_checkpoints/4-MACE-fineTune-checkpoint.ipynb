{
 "cells": [
  {
   "cell_type": "markdown",
   "id": "57a883f2-b6b6-4807-8ebd-fd481651b4a2",
   "metadata": {},
   "source": [
    "# Fine tune generic model"
   ]
  },
  {
   "cell_type": "code",
   "execution_count": 1,
   "id": "75870c8a-14c1-4a77-aa29-29e81ab9fe17",
   "metadata": {
    "editable": true,
    "slideshow": {
     "slide_type": ""
    },
    "tags": []
   },
   "outputs": [],
   "source": [
    "from ase.io import read, write\n",
    "db = read('data/solvent_xtb.xyz', ':')\n",
    "write('data/solvent_xtb_train_400.xyz', db[:403]) #first 400 configs plus the 3 E0s\n",
    "write('data/solvent_xtb_test.xyz', db[-1000:]) #last 1000 configs"
   ]
  },
  {
   "cell_type": "code",
   "execution_count": 4,
   "id": "b152b5dd-d2d0-4a24-aad9-f8c2063deed8",
   "metadata": {},
   "outputs": [
    {
     "name": "stderr",
     "output_type": "stream",
     "text": [
      "/usr/local/lib/python3.10/dist-packages/e3nn/o3/_wigner.py:10: FutureWarning: You are using `torch.load` with `weights_only=False` (the current default value), which uses the default pickle module implicitly. It is possible to construct malicious pickle data which will execute arbitrary code during unpickling (See https://github.com/pytorch/pytorch/blob/main/SECURITY.md#untrusted-models for more details). In a future release, the default value for `weights_only` will be flipped to `True`. This limits the functions that could be executed during unpickling. Arbitrary objects will no longer be allowed to be loaded via this mode unless they are explicitly allowlisted by the user via `torch.serialization.add_safe_globals`. We recommend you start setting `weights_only=True` for any use case where you don't have full control of the loaded file. Please open an issue on GitHub for any issues related to this experimental feature.\n",
      "  _Jd, _W3j_flat, _W3j_indices = torch.load(os.path.join(os.path.dirname(__file__), 'constants.pt'))\n"
     ]
    }
   ],
   "source": [
    "import time\n",
    "from ase.io import read\n",
    "from mace.calculators import MACECalculator\n",
    "from aseMolec import anaAtoms as aa\n",
    "from matplotlib import pyplot as plt\n",
    "import os"
   ]
  },
  {
   "cell_type": "code",
   "execution_count": null,
   "id": "1a2dacbb-cb40-4304-af00-86aafd93b9d6",
   "metadata": {
    "editable": true,
    "slideshow": {
     "slide_type": ""
    },
    "tags": []
   },
   "outputs": [],
   "source": [
    "# === 1. Fine-tune model with mace_run_train ===\n",
    "start = time.time()\n",
    "\n",
    "!mace_run_train \\\n",
    "    --name=\"finetuned_MACE\" \\\n",
    "    --foundation_model=\"small\" \\\n",
    "    --train_file=\"data/solvent_xtb_train_200.xyz\" \\\n",
    "    --valid_fraction=0.10 \\\n",
    "    --test_file=\"data/solvent_xtb_test.xyz\" \\\n",
    "    --energy_weight=1.0 \\\n",
    "    --forces_weight=1.0 \\\n",
    "    --E0s=\"average\" \\\n",
    "    --energy_key=\"energy_xtb\" \\\n",
    "    --forces_key=\"forces_xtb\" \\\n",
    "    --lr=0.01 \\\n",
    "    --scaling=\"rms_forces_scaling\" \\\n",
    "    --batch_size=10 \\\n",
    "    --max_num_epochs=50 \\\n",
    "    --ema \\\n",
    "    --ema_decay=0.99 \\\n",
    "    --amsgrad \\\n",
    "    --default_dtype=\"float64\" \\\n",
    "    --device=cuda \\\n",
    "    --seed=3\n",
    "\n",
    "end = time.time()\n",
    "print(f\"Fine-tuning time: {end - start:.2f} seconds\")"
   ]
  }
 ],
 "metadata": {
  "kernelspec": {
   "display_name": "Python 3 (ipykernel)",
   "language": "python",
   "name": "python3"
  },
  "language_info": {
   "codemirror_mode": {
    "name": "ipython",
    "version": 3
   },
   "file_extension": ".py",
   "mimetype": "text/x-python",
   "name": "python",
   "nbconvert_exporter": "python",
   "pygments_lexer": "ipython3",
   "version": "3.10.12"
  }
 },
 "nbformat": 4,
 "nbformat_minor": 5
}
