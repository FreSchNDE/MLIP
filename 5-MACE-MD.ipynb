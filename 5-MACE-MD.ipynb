{
 "cells": [
  {
   "cell_type": "markdown",
   "id": "43286a74-e83c-4631-919f-dd7a0e1ad5a8",
   "metadata": {},
   "source": [
    "# Molecular Dynamics"
   ]
  },
  {
   "cell_type": "code",
   "execution_count": 1,
   "id": "a6d85e69-b833-4d58-9678-6c3d09834ffb",
   "metadata": {
    "editable": true,
    "slideshow": {
     "slide_type": ""
    },
    "tags": []
   },
   "outputs": [
    {
     "name": "stderr",
     "output_type": "stream",
     "text": [
      "/usr/local/lib/python3.10/dist-packages/e3nn/o3/_wigner.py:10: FutureWarning: You are using `torch.load` with `weights_only=False` (the current default value), which uses the default pickle module implicitly. It is possible to construct malicious pickle data which will execute arbitrary code during unpickling (See https://github.com/pytorch/pytorch/blob/main/SECURITY.md#untrusted-models for more details). In a future release, the default value for `weights_only` will be flipped to `True`. This limits the functions that could be executed during unpickling. Arbitrary objects will no longer be allowed to be loaded via this mode unless they are explicitly allowlisted by the user via `torch.serialization.add_safe_globals`. We recommend you start setting `weights_only=True` for any use case where you don't have full control of the loaded file. Please open an issue on GitHub for any issues related to this experimental feature.\n",
      "  _Jd, _W3j_flat, _W3j_indices = torch.load(os.path.join(os.path.dirname(__file__), 'constants.pt'))\n"
     ]
    }
   ],
   "source": [
    "import os\n",
    "import numpy as np\n",
    "import matplotlib.pyplot as plt\n",
    "from ase.io import read\n",
    "from ase import units\n",
    "from ase.md.langevin import Langevin\n",
    "from ase.md.velocitydistribution import Stationary, ZeroRotation, MaxwellBoltzmannDistribution\n",
    "from xtb.ase.calculator import XTB\n",
    "from mace.calculators import MACECalculator\n",
    "from aseMolec import anaAtoms as aa\n",
    "import subprocess"
   ]
  },
  {
   "cell_type": "code",
   "execution_count": 17,
   "id": "2af6cb2a-e33d-4cbc-90d3-1e78897ad7b9",
   "metadata": {
    "editable": true,
    "slideshow": {
     "slide_type": ""
    },
    "tags": []
   },
   "outputs": [],
   "source": [
    "output_dir = \"moldyn\"\n",
    "os.makedirs(output_dir, exist_ok=True)\n",
    "\n",
    "def run_md(name, init_conf, temp, calc, steps, interval):\n",
    "    \"\"\"Run MD with Langevin thermostat and save trajectory + return log data.\"\"\"\n",
    "    conf = init_conf.copy()\n",
    "    conf.calc = calc\n",
    "\n",
    "    # Initialize velocities\n",
    "    MaxwellBoltzmannDistribution(conf, temperature_K=300)\n",
    "    Stationary(conf)\n",
    "    ZeroRotation(conf)\n",
    "\n",
    "    traj_file = os.path.join(output_dir, f\"{name}.xyz\")\n",
    "    if os.path.exists(traj_file):\n",
    "        os.remove(traj_file)\n",
    "\n",
    "    time_fs, temperatures, energies = [], [], []\n",
    "    dyn = Langevin(conf, 1.0 * units.fs, temperature_K=temp, friction=0.1)\n",
    "\n",
    "    def log():\n",
    "        dyn.atoms.write(traj_file, append=True)\n",
    "        time_fs.append(dyn.get_time() / units.fs)\n",
    "        temperatures.append(dyn.atoms.get_temperature())\n",
    "        energies.append(dyn.atoms.get_potential_energy() / len(dyn.atoms))\n",
    "\n",
    "    dyn.attach(log, interval=interval)\n",
    "    dyn.run(steps)\n",
    "\n",
    "    return np.array(time_fs), np.array(temperatures), np.array(energies)\n",
    "\n",
    "def plot_temperature(t1, temp1, t2, temp2, label1, label2, temp_target, N, out_file, ylim=None):\n",
    "    \"\"\"Plot temperature vs time with equilibrium fluctuation line.\"\"\"\n",
    "    fluctuation = temp_target * np.sqrt(2 / (3 * N))\n",
    "\n",
    "    plt.figure(figsize=(6, 4))\n",
    "    plt.plot(t1, temp1, label=f'{label1} T(t)')\n",
    "    plt.plot(t2, temp2, label=f'{label2} T(t)')\n",
    "\n",
    "    # Plot mean temperature lines\n",
    "    plt.axhline(np.mean(temp1), linestyle='--', color='blue', label=f'{label1} ⟨T⟩ = {np.mean(temp1):.1f} K')\n",
    "    plt.axhline(np.mean(temp2), linestyle='--', color='red', label=f'{label2} ⟨T⟩ = {np.mean(temp2):.1f} K')\n",
    "\n",
    "    # Plot target temperature (solid gray)\n",
    "    plt.axhline(temp_target, linestyle='-', color='gray', label=f'{temp_target} K')\n",
    "\n",
    "    # Plot theoretical fluctuation bounds (dotted gray)\n",
    "    plt.axhline(temp_target + fluctuation, linestyle=':', color='gray', label=f'{temp_target} ± {fluctuation:.1f} K')\n",
    "    plt.axhline(temp_target - fluctuation, linestyle=':', color='gray')\n",
    "    \n",
    "    plt.xlabel(\"Time (fs)\")\n",
    "    plt.ylabel(\"Temperature (K)\")\n",
    "    plt.title(\"Temperature Over Time\")\n",
    "    plt.legend()\n",
    "\n",
    "    if ylim:\n",
    "        plt.ylim(*ylim)  # (0, 700)\n",
    "    \n",
    "    plt.tight_layout()\n",
    "    plt.savefig(out_file, dpi=300)\n",
    "    plt.close()\n",
    "\n",
    "def plot_energy(t1, E1, t2, E2, label1, label2, out_file):\n",
    "    \"\"\"Plot energy per atom over time.\"\"\"\n",
    "    plt.figure(figsize=(6, 4))\n",
    "    plt.plot(t1, E1, label=label1)\n",
    "    plt.plot(t2, E2, label=label2)\n",
    "    plt.xlabel(\"Time (fs)\")\n",
    "    plt.ylabel(\"Energy (eV/atom)\")\n",
    "    plt.title(\"Potential Energy per Atom\")\n",
    "    plt.legend()\n",
    "    plt.tight_layout()\n",
    "    plt.savefig(out_file, dpi=300)\n",
    "    plt.close()\n",
    "\n",
    "def plot_rdfs(file1, file2, tags, out_prefix, label1, label2):\n",
    "    traj1 = read(file1, \"50:\")\n",
    "    traj2 = read(file2, \"50:\")\n",
    "\n",
    "    for traj in [traj1, traj2]:\n",
    "        for at in traj:\n",
    "            at.pbc = True\n",
    "            at.cell = [100, 100, 100]\n",
    "\n",
    "    for tag in tags:\n",
    "        rdf1 = aa.compute_rdfs_traj_avg(traj1, rmax=5, nbins=50)\n",
    "        rdf2 = aa.compute_rdfs_traj_avg(traj2, rmax=5, nbins=50)\n",
    "\n",
    "        plt.figure(figsize=(5, 3.5))\n",
    "        plt.rcParams.update({'font.size': 15})\n",
    "        plt.plot(rdf1[1], rdf1[0][tag], label=label1)\n",
    "        plt.plot(rdf2[1], rdf2[0][tag], label=label2)\n",
    "        plt.xlabel(r\"R ($\\rm \\AA$)\")\n",
    "        plt.ylabel(f\"RDF {tag}\")\n",
    "        plt.legend()\n",
    "        plt.title(f\"RDF {tag}\")\n",
    "        plt.tight_layout()\n",
    "        plt.savefig(f\"{out_prefix}_rdf_{tag}.png\", dpi=300)\n",
    "        plt.close()\n",
    "\n",
    "def load_msd(file):\n",
    "    t, msd = np.loadtxt(file, comments=\"#\", usecols=(0, 2), unpack=True)\n",
    "    return t * 1000, msd  # convert ps → fs\n",
    "\n",
    "\n",
    "def compute_diffusion(t_fs, msd, t_max_fs=100):\n",
    "    \"\"\"Compute diffusion constant by fitting MSD vs time with y = a*x (through origin).\"\"\"\n",
    "    mask = t_fs <= t_max_fs\n",
    "    t_fit = t_fs[mask] / 1000  # fs → ps\n",
    "    msd_fit = msd[mask]\n",
    "\n",
    "    # Linear fit through origin: slope = sum(x*y)/sum(x²)\n",
    "    numerator = np.sum(t_fit * msd_fit)\n",
    "    denominator = np.sum(t_fit ** 2)\n",
    "    slope = numerator / denominator\n",
    "    D = slope / 6  # Å²/ps\n",
    "\n",
    "    return D, slope"
   ]
  },
  {
   "cell_type": "code",
   "execution_count": 3,
   "id": "a0e0a406-709f-4985-8711-723f5d1b948c",
   "metadata": {},
   "outputs": [
    {
     "name": "stderr",
     "output_type": "stream",
     "text": [
      "/usr/local/lib/python3.10/dist-packages/mace/calculators/mace.py:128: FutureWarning: You are using `torch.load` with `weights_only=False` (the current default value), which uses the default pickle module implicitly. It is possible to construct malicious pickle data which will execute arbitrary code during unpickling (See https://github.com/pytorch/pytorch/blob/main/SECURITY.md#untrusted-models for more details). In a future release, the default value for `weights_only` will be flipped to `True`. This limits the functions that could be executed during unpickling. Arbitrary objects will no longer be allowed to be loaded via this mode unless they are explicitly allowlisted by the user via `torch.serialization.add_safe_globals`. We recommend you start setting `weights_only=True` for any use case where you don't have full control of the loaded file. Please open an issue on GitHub for any issues related to this experimental feature.\n",
      "  torch.load(f=model_path, map_location=device)\n",
      "/usr/local/lib/python3.10/dist-packages/torch/serialization.py:1074: UserWarning: 'torch.load' received a zip file that looks like a TorchScript archive dispatching to 'torch.jit.load' (call 'torch.jit.load' directly to silence this warning)\n",
      "  warnings.warn(\"'torch.load' received a zip file that looks like a TorchScript archive\"\n"
     ]
    }
   ],
   "source": [
    "# === MD for single molecule ===\n",
    "mol_conf = [a for a in read('data/solvent_molecs.xyz', ':') if a.info.get('Nmols') == 1][0]\n",
    "N_mol = len(mol_conf)\n",
    "T_target_mol = 1200\n",
    "\n",
    "mace_calc = MACECalculator(model_paths=['MACE_models/mace_learncurve_train4000_swa_compiled.model'],\n",
    "                            device='cuda', default_dtype='float64')\n",
    "xtb_calc = XTB(method=\"GFN2-xTB\")\n",
    "\n",
    "mol_mace_t, mol_mace_temp, mol_mace_E = run_md(\"mace_md_molecule\", mol_conf, temp=T_target_mol, calc=mace_calc, steps=5000, interval=10)\n",
    "mol_xtb_t, mol_xtb_temp, mol_xtb_E = run_md(\"xtb_md_molecule\", mol_conf, temp=T_target_mol, calc=xtb_calc, steps=5000, interval=10)\n",
    "\n",
    "np.savez(os.path.join(output_dir, \"mol_mace_4000.npz\"), t=mol_mace_t, T=mol_mace_temp, E=mol_mace_E, N=N_mol, T_target=T_target_mol)\n",
    "np.savez(os.path.join(output_dir, \"mol_xtb.npz\"), t=mol_xtb_t, T=mol_xtb_temp, E=mol_xtb_E, N=N_mol, T_target=T_target_mol)"
   ]
  },
  {
   "cell_type": "code",
   "execution_count": 4,
   "id": "2cb820fe-dd47-4c26-a844-3e5c3a5f42e2",
   "metadata": {},
   "outputs": [
    {
     "name": "stdout",
     "output_type": "stream",
     "text": [
      "✔  wrote moldyn/msd_mace_md_molecule.dat  with 501 lines\n",
      "✔  wrote moldyn/msd_mace_md_molecule.png\n",
      "✔  wrote moldyn/msd_xtb_md_molecule.dat  with 501 lines\n",
      "✔  wrote moldyn/msd_xtb_md_molecule.png\n"
     ]
    },
    {
     "data": {
      "text/plain": [
       "CompletedProcess(args=['python3', 'MSD.py', 'moldyn/xtb_md_molecule.xyz', '--out', 'moldyn/msd_xtb_md_molecule.dat', '--dt', '1', '--png', 'moldyn/msd_xtb_md_molecule.png', '--skip', '1'], returncode=0)"
      ]
     },
     "execution_count": 4,
     "metadata": {},
     "output_type": "execute_result"
    }
   ],
   "source": [
    "# === Call MSD.py for both single molecule MDs ===\n",
    "subprocess.run([\"python3\", \"MSD.py\", os.path.join(output_dir, \"mace_md_molecule.xyz\"),\n",
    "                \"--out\", os.path.join(output_dir, \"msd_mace_md_molecule.dat\"),\n",
    "                \"--dt\", \"1\", \"--png\", os.path.join(output_dir, \"msd_mace_md_molecule.png\"), \"--skip\", \"1\"])\n",
    "\n",
    "subprocess.run([\"python3\", \"MSD.py\", os.path.join(output_dir, \"xtb_md_molecule.xyz\"),\n",
    "                \"--out\", os.path.join(output_dir, \"msd_xtb_md_molecule.dat\"),\n",
    "                \"--dt\", \"1\", \"--png\", os.path.join(output_dir, \"msd_xtb_md_molecule.png\"), \"--skip\", \"1\"])"
   ]
  },
  {
   "cell_type": "code",
   "execution_count": 5,
   "id": "72f7a08c-2c32-496c-8592-cead477bc4b6",
   "metadata": {},
   "outputs": [
    {
     "name": "stderr",
     "output_type": "stream",
     "text": [
      "/usr/local/lib/python3.10/dist-packages/mace/calculators/mace.py:128: FutureWarning: You are using `torch.load` with `weights_only=False` (the current default value), which uses the default pickle module implicitly. It is possible to construct malicious pickle data which will execute arbitrary code during unpickling (See https://github.com/pytorch/pytorch/blob/main/SECURITY.md#untrusted-models for more details). In a future release, the default value for `weights_only` will be flipped to `True`. This limits the functions that could be executed during unpickling. Arbitrary objects will no longer be allowed to be loaded via this mode unless they are explicitly allowlisted by the user via `torch.serialization.add_safe_globals`. We recommend you start setting `weights_only=True` for any use case where you don't have full control of the loaded file. Please open an issue on GitHub for any issues related to this experimental feature.\n",
      "  torch.load(f=model_path, map_location=device)\n",
      "/usr/local/lib/python3.10/dist-packages/torch/serialization.py:1074: UserWarning: 'torch.load' received a zip file that looks like a TorchScript archive dispatching to 'torch.jit.load' (call 'torch.jit.load' directly to silence this warning)\n",
      "  warnings.warn(\"'torch.load' received a zip file that looks like a TorchScript archive\"\n"
     ]
    }
   ],
   "source": [
    "# === MD for liquid ===\n",
    "# Needs fine tuned model\n",
    "liq_conf = read(\"data/input2.xyz\")\n",
    "liq_conf.center()\n",
    "N_liq = len(liq_conf)\n",
    "T_target_liq = 500\n",
    "\n",
    "mace_liq_calc = MACECalculator(model_paths=['MACE_models/mace_learncurve_train4000_swa_compiled.model'],\n",
    "                                device='cuda', default_dtype='float64')\n",
    "finetuned_calc = MACECalculator(model_paths=['finetuned_MACE_compiled.model'],\n",
    "                                device='cuda', default_dtype='float64')\n",
    "\n",
    "liq_mace_t, liq_mace_temp, liq_mace_E = run_md(\"mace_md_input2\", liq_conf, temp=T_target_liq, calc=mace_liq_calc, steps=5000, interval=10)\n",
    "liq_ft_t, liq_ft_temp, liq_ft_E = run_md(\"mace_finetuned_md\", liq_conf, temp=T_target_liq, calc=finetuned_calc, steps=5000, interval=10)\n",
    "\n",
    "np.savez(os.path.join(output_dir, \"liq_mace_4000.npz\"), t=liq_mace_t, T=liq_mace_temp, E=liq_mace_E, N=N_liq, T_target=T_target_liq)\n",
    "np.savez(os.path.join(output_dir, \"liq_finetuned.npz\"), t=liq_ft_t, T=liq_ft_temp, E=liq_ft_E, N=N_liq, T_target=T_target_liq)"
   ]
  },
  {
   "cell_type": "code",
   "execution_count": 6,
   "id": "8fda3c22-e537-497b-9aa9-d0402adb4712",
   "metadata": {},
   "outputs": [
    {
     "name": "stdout",
     "output_type": "stream",
     "text": [
      "✔  wrote moldyn/msd_mace_input2.dat  with 501 lines\n",
      "✔  wrote moldyn/msd_mace_input2.png\n",
      "✔  wrote moldyn/msd_mace_finetuned.dat  with 501 lines\n",
      "✔  wrote moldyn/msd_mace_finetuned.png\n"
     ]
    },
    {
     "data": {
      "text/plain": [
       "CompletedProcess(args=['python3', 'MSD.py', 'moldyn/mace_finetuned_md.xyz', '--out', 'moldyn/msd_mace_finetuned.dat', '--dt', '1', '--png', 'moldyn/msd_mace_finetuned.png', '--skip', '1'], returncode=0)"
      ]
     },
     "execution_count": 6,
     "metadata": {},
     "output_type": "execute_result"
    }
   ],
   "source": [
    "# === Call MSD.py for both liquid MDs ===\n",
    "subprocess.run([\"python3\", \"MSD.py\", os.path.join(output_dir, \"mace_md_input2.xyz\"),\n",
    "                \"--out\", os.path.join(output_dir, \"msd_mace_input2.dat\"),\n",
    "                \"--dt\", \"1\", \"--png\", os.path.join(output_dir, \"msd_mace_input2.png\"), \"--skip\", \"1\"])\n",
    "\n",
    "subprocess.run([\"python3\", \"MSD.py\", os.path.join(output_dir, \"mace_finetuned_md.xyz\"),\n",
    "                \"--out\", os.path.join(output_dir, \"msd_mace_finetuned.dat\"),\n",
    "                \"--dt\", \"1\", \"--png\", os.path.join(output_dir, \"msd_mace_finetuned.png\"), \"--skip\", \"1\"])"
   ]
  },
  {
   "cell_type": "code",
   "execution_count": 16,
   "id": "b00c9eec-0cde-44cd-b532-ffa18aaf7d1a",
   "metadata": {
    "editable": true,
    "slideshow": {
     "slide_type": ""
    },
    "tags": []
   },
   "outputs": [],
   "source": [
    "# === Create temp and energy graphics for all MDs ===\n",
    "\n",
    "mol_mace_data = np.load(os.path.join(output_dir, \"mol_mace_4000.npz\"))\n",
    "mol_xtb_data = np.load(os.path.join(output_dir, \"mol_xtb.npz\"))\n",
    "\n",
    "liq_mace_data = np.load(os.path.join(output_dir, \"liq_mace_4000.npz\"))\n",
    "liq_ft_data = np.load(os.path.join(output_dir, \"liq_finetuned.npz\"))\n",
    "\n",
    "# Load arrays\n",
    "mol_mace_t, mol_mace_temp, mol_mace_E = mol_mace_data['t'], mol_mace_data['T'], mol_mace_data['E']\n",
    "mol_xtb_t, mol_xtb_temp, mol_xtb_E = mol_xtb_data['t'], mol_xtb_data['T'], mol_xtb_data['E']\n",
    "liq_mace_t, liq_mace_temp, liq_mace_E = liq_mace_data['t'], liq_mace_data['T'], liq_mace_data['E']\n",
    "liq_ft_t, liq_ft_temp, liq_ft_E = liq_ft_data['t'], liq_ft_data['T'], liq_ft_data['E']\n",
    "\n",
    "# Load constants from any of the files for the system\n",
    "N_mol = int(mol_mace_data['N'])\n",
    "T_target_mol = float(mol_mace_data['T_target'])\n",
    "\n",
    "N_liq = int(liq_mace_data['N'])\n",
    "T_target_liq = float(liq_mace_data['T_target'])\n",
    "\n",
    "\n",
    "\n",
    "plot_temperature(mol_mace_t, mol_mace_temp, mol_xtb_t, mol_xtb_temp,\n",
    "                 \"MACE-4000\", \"XTB\", temp_target=T_target_mol, N=N_mol,\n",
    "                 out_file=os.path.join(output_dir, \"temperature_molecule.png\"))\n",
    "\n",
    "plot_energy(mol_mace_t, mol_mace_E, mol_xtb_t, mol_xtb_E,\n",
    "            \"MACE-4000\", \"XTB\",\n",
    "            out_file=os.path.join(output_dir, \"energy_molecule.png\"))\n",
    "\n",
    "\n",
    "plot_temperature(liq_mace_t, liq_mace_temp, liq_ft_t, liq_ft_temp,\n",
    "                 \"MACE-4000\", \"Fine-tuned\", temp_target=T_target_liq, N=N_liq,\n",
    "                 out_file=os.path.join(output_dir, \"temperature_liquid.png\"),\n",
    "                 ylim=(200, 800))\n",
    "\n",
    "plot_energy(liq_mace_t, liq_mace_E, liq_ft_t, liq_ft_E,\n",
    "            \"MACE-4000\", \"Fine-tuned\",\n",
    "            out_file=os.path.join(output_dir, \"energy_liquid.png\"))"
   ]
  },
  {
   "cell_type": "code",
   "execution_count": 18,
   "id": "020cca50-e4c2-4003-acef-4bf76aaaff73",
   "metadata": {
    "editable": true,
    "slideshow": {
     "slide_type": ""
    },
    "tags": []
   },
   "outputs": [],
   "source": [
    "# === Create rdf graphics for all MDs ===\n",
    "\n",
    "rdf_tags = ['HO_inter', 'OO_inter', 'CC_inter'] \n",
    "\n",
    "# Molecule RDFs\n",
    "#plot_rdfs(os.path.join(output_dir, \"xtb_md_molecule.xyz\"),\n",
    "#          os.path.join(output_dir, \"mace_md_molecule.xyz\"),\n",
    "#          tags=rdf_tags,\n",
    "#          out_prefix=os.path.join(output_dir, \"molecule\"),\n",
    "#          label1=\"XTB\",\n",
    "#          label2=\"MACE-4000\")\n",
    "\n",
    "# Liquid RDFs\n",
    "plot_rdfs(os.path.join(output_dir, \"mace_md_input2.xyz\"),\n",
    "          os.path.join(output_dir, \"mace_finetuned_md.xyz\"),\n",
    "          tags=rdf_tags,\n",
    "          out_prefix=os.path.join(output_dir, \"liquid\"),\n",
    "          label1=\"MACE-4000\",\n",
    "          label2=\"Fine-tuned\")\n"
   ]
  },
  {
   "cell_type": "code",
   "execution_count": 11,
   "id": "60848f51-fce5-498f-9c62-68b6850926b4",
   "metadata": {},
   "outputs": [],
   "source": [
    "# === Create MSD graphics for all MDs ===\n",
    "\n",
    "# Molecule MSD\n",
    "t_mace, msd_mace = load_msd(os.path.join(output_dir, \"msd_mace_md_molecule.dat\"))\n",
    "t_xtb, msd_xtb = load_msd(os.path.join(output_dir, \"msd_xtb_md_molecule.dat\"))\n",
    "\n",
    "D_mace, _ = compute_diffusion(t_mace, msd_mace, t_max_fs=100)\n",
    "D_xtb, _ = compute_diffusion(t_xtb, msd_xtb, t_max_fs=100)\n",
    "\n",
    "plt.figure()\n",
    "plt.plot(t_mace, msd_mace, label='MACE-4000')\n",
    "plt.plot(t_xtb, msd_xtb, label='XTB')\n",
    "plt.xlabel('Time [fs]')\n",
    "plt.ylabel('MSD [Å²]')\n",
    "plt.text(0.95, 0.05,\n",
    "         f\"D(MACE) = {D_mace:.4f} Å²/ps\\nD(XTB) = {D_xtb:.4f} Å²/ps\",\n",
    "         transform=plt.gca().transAxes,\n",
    "         ha='right', va='bottom',\n",
    "         fontsize=9, bbox=dict(boxstyle='round', facecolor='white', alpha=0.6))\n",
    "plt.legend()\n",
    "plt.tight_layout()\n",
    "plt.savefig(os.path.join(output_dir, \"msd_molecule.png\"), dpi=300)\n",
    "plt.close()\n",
    "\n",
    "# Liquid MSD\n",
    "t_liq, msd_liq = load_msd(os.path.join(output_dir, \"msd_mace_input2.dat\"))\n",
    "t_ft, msd_ft = load_msd(os.path.join(output_dir, \"msd_mace_finetuned.dat\"))\n",
    "\n",
    "D_liq, _ = compute_diffusion(t_liq, msd_liq, t_max_fs=100)\n",
    "D_ft, _ = compute_diffusion(t_ft, msd_ft, t_max_fs=100)\n",
    "\n",
    "plt.figure()\n",
    "plt.plot(t_liq, msd_liq, label='MACE-4000')\n",
    "plt.plot(t_ft, msd_ft, label='Fine-tuned')\n",
    "plt.xlabel('Time [fs]')\n",
    "plt.ylabel('MSD [Å²]')\n",
    "plt.text(0.95, 0.05,\n",
    "         f\"D(MACE) = {D_liq:.4f} Å²/ps\\nD(Fine-tuned) = {D_ft:.4f} Å²/ps\",\n",
    "         transform=plt.gca().transAxes,\n",
    "         ha='right', va='bottom',\n",
    "         fontsize=9, bbox=dict(boxstyle='round', facecolor='white', alpha=0.6))\n",
    "plt.legend()\n",
    "plt.tight_layout()\n",
    "plt.savefig(os.path.join(output_dir, \"msd_liquid.png\"), dpi=300)\n",
    "plt.close()\n"
   ]
  },
  {
   "cell_type": "code",
   "execution_count": null,
   "id": "b3ecc5d2-98e5-462d-929a-771fb916f053",
   "metadata": {},
   "outputs": [],
   "source": []
  }
 ],
 "metadata": {
  "kernelspec": {
   "display_name": "Python 3 (ipykernel)",
   "language": "python",
   "name": "python3"
  },
  "language_info": {
   "codemirror_mode": {
    "name": "ipython",
    "version": 3
   },
   "file_extension": ".py",
   "mimetype": "text/x-python",
   "name": "python",
   "nbconvert_exporter": "python",
   "pygments_lexer": "ipython3",
   "version": "3.10.12"
  }
 },
 "nbformat": 4,
 "nbformat_minor": 5
}
