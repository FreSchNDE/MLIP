{
 "cells": [
  {
   "cell_type": "markdown",
   "id": "3a7c6ac1-59bb-4331-bc1a-d5105f96f0eb",
   "metadata": {},
   "source": [
    "# Molecular Dynamics\n"
   ]
  },
  {
   "cell_type": "code",
   "execution_count": 1,
   "id": "02235138-9de9-4c00-9f72-fd532407f6ff",
   "metadata": {},
   "outputs": [
    {
     "name": "stderr",
     "output_type": "stream",
     "text": [
      "/usr/local/lib/python3.10/dist-packages/e3nn/o3/_wigner.py:10: FutureWarning: You are using `torch.load` with `weights_only=False` (the current default value), which uses the default pickle module implicitly. It is possible to construct malicious pickle data which will execute arbitrary code during unpickling (See https://github.com/pytorch/pytorch/blob/main/SECURITY.md#untrusted-models for more details). In a future release, the default value for `weights_only` will be flipped to `True`. This limits the functions that could be executed during unpickling. Arbitrary objects will no longer be allowed to be loaded via this mode unless they are explicitly allowlisted by the user via `torch.serialization.add_safe_globals`. We recommend you start setting `weights_only=True` for any use case where you don't have full control of the loaded file. Please open an issue on GitHub for any issues related to this experimental feature.\n",
      "  _Jd, _W3j_flat, _W3j_indices = torch.load(os.path.join(os.path.dirname(__file__), 'constants.pt'))\n",
      "/usr/local/lib/python3.10/dist-packages/mace/calculators/mace.py:128: FutureWarning: You are using `torch.load` with `weights_only=False` (the current default value), which uses the default pickle module implicitly. It is possible to construct malicious pickle data which will execute arbitrary code during unpickling (See https://github.com/pytorch/pytorch/blob/main/SECURITY.md#untrusted-models for more details). In a future release, the default value for `weights_only` will be flipped to `True`. This limits the functions that could be executed during unpickling. Arbitrary objects will no longer be allowed to be loaded via this mode unless they are explicitly allowlisted by the user via `torch.serialization.add_safe_globals`. We recommend you start setting `weights_only=True` for any use case where you don't have full control of the loaded file. Please open an issue on GitHub for any issues related to this experimental feature.\n",
      "  torch.load(f=model_path, map_location=device)\n",
      "/usr/local/lib/python3.10/dist-packages/torch/serialization.py:1074: UserWarning: 'torch.load' received a zip file that looks like a TorchScript archive dispatching to 'torch.jit.load' (call 'torch.jit.load' directly to silence this warning)\n",
      "  warnings.warn(\"'torch.load' received a zip file that looks like a TorchScript archive\"\n"
     ]
    },
    {
     "name": "stdout",
     "output_type": "stream",
     "text": [
      "Default dtype float32 does not match model dtype float64, converting models to float32.\n"
     ]
    },
    {
     "name": "stderr",
     "output_type": "stream",
     "text": [
      "/tmp/ipykernel_2157033/954310160.py:18: DeprecationWarning: Please use atoms.calc = calc\n",
      "  conf.set_calculator(calc)\n"
     ]
    }
   ],
   "source": [
    "import os\n",
    "import numpy as np\n",
    "import matplotlib.pyplot as plt\n",
    "from ase.io import read, write\n",
    "from ase import units\n",
    "from ase.md.langevin import Langevin\n",
    "from ase.md.velocitydistribution import Stationary, ZeroRotation, MaxwellBoltzmannDistribution\n",
    "from xtb.ase.calculator import XTB\n",
    "from mace.calculators import MACECalculator\n",
    "\n",
    "# Setup for directories\n",
    "output_dir = \"moldyn\"\n",
    "os.makedirs(output_dir, exist_ok=True)\n",
    "\n",
    "# Simulation function that logs temperature and energy\n",
    "def run_md(name, init_conf, temp, calc, steps, interval):\n",
    "    conf = init_conf.copy()\n",
    "    conf.set_calculator(calc)\n",
    "\n",
    "    # Initialize velocities and remove translation/rotation\n",
    "    MaxwellBoltzmannDistribution(conf, temperature_K=300)\n",
    "    Stationary(conf)\n",
    "    ZeroRotation(conf)\n",
    "\n",
    "    dyn = Langevin(conf, 1.0 * units.fs, temperature_K=temp, friction=0.1)\n",
    "    traj_file = os.path.join(output_dir, f\"{name}.xyz\")\n",
    "    if os.path.exists(traj_file):\n",
    "        os.remove(traj_file)\n",
    "\n",
    "    time_fs, temperatures, energies = [], [], []\n",
    "\n",
    "    def log():\n",
    "        dyn.atoms.write(traj_file, append=True)\n",
    "        time_fs.append(dyn.get_time() / units.fs)\n",
    "        temperatures.append(dyn.atoms.get_temperature())\n",
    "        energies.append(dyn.atoms.get_potential_energy() / len(dyn.atoms))\n",
    "\n",
    "    dyn.attach(log, interval=interval)\n",
    "    dyn.run(steps)\n",
    "\n",
    "    return np.array(time_fs), np.array(temperatures), np.array(energies)\n",
    "\n",
    "# Load starting configuration: one molecule from solvent_molecs.xyz\n",
    "init_conf = read('data/solvent_molecs.xyz', ':')\n",
    "init_conf = [a for a in init_conf if a.info.get('Nmols') == 1][0]\n",
    "\n",
    "# Run MACE dynamics\n",
    "mace_calc = MACECalculator(model_paths=['MACE_models/mace_learncurve_train4000_swa_compiled.model'],\n",
    "                           device='cuda', default_dtype='float32')\n",
    "mace_t, mace_temp, mace_E = run_md(\"mace_md_molecule\", init_conf, temp=1200, calc=mace_calc, steps=5000, interval=10)\n",
    "\n",
    "# Run XTB dynamics\n",
    "xtb_calc = XTB(method=\"GFN2-xTB\")\n",
    "xtb_t, xtb_temp, xtb_E = run_md(\"xtb_md_molecule\", init_conf, temp=1200, calc=xtb_calc, steps=5000, interval=10)\n",
    "\n",
    "# Plot energy comparison\n",
    "plt.figure(figsize=(6, 4))\n",
    "plt.plot(mace_t, mace_E, label='MACE', color='blue')\n",
    "plt.plot(xtb_t, xtb_E, label='XTB', color='red')\n",
    "plt.xlabel(\"Time (fs)\")\n",
    "plt.ylabel(\"Energy (eV/atom)\")\n",
    "plt.title(\"Potential Energy per Atom\")\n",
    "plt.legend()\n",
    "plt.tight_layout()\n",
    "plt.savefig(os.path.join(output_dir, \"energy_comparison.png\"), dpi=300)\n",
    "plt.close()\n",
    "\n",
    "# Plot temperature with average lines\n",
    "plt.figure(figsize=(6, 4))\n",
    "plt.plot(mace_t, mace_temp, label='MACE T(t)', color='blue')\n",
    "plt.plot(xtb_t, xtb_temp, label='XTB T(t)', color='red')\n",
    "plt.axhline(np.mean(mace_temp), linestyle='--', color='blue', label=f'MACE ⟨T⟩ = {np.mean(mace_temp):.1f} K')\n",
    "plt.axhline(np.mean(xtb_temp), linestyle='--', color='red', label=f'XTB ⟨T⟩ = {np.mean(xtb_temp):.1f} K')\n",
    "plt.xlabel(\"Time (fs)\")\n",
    "plt.ylabel(\"Temperature (K)\")\n",
    "plt.title(\"Temperature Over Time\")\n",
    "plt.legend()\n",
    "plt.tight_layout()\n",
    "plt.savefig(os.path.join(output_dir, \"temperature_comparison.png\"), dpi=300)\n",
    "plt.close()\n",
    "\n",
    "import aseMolec.anaAtoms as aa\n",
    "\n",
    "# Function to plot RDFs for multiple tags\n",
    "def plot_rdfs(file_xtb, file_mace, tags, skip=50):\n",
    "    traj_xtb = read(file_xtb, f'{skip}:')\n",
    "    traj_mace = read(file_mace, f'{skip}:')\n",
    "\n",
    "    for traj in [traj_xtb, traj_mace]:\n",
    "        for at in traj:\n",
    "            at.pbc = True\n",
    "            at.cell = [100, 100, 100]\n",
    "\n",
    "    for tag in tags:\n",
    "        rdf_xtb = aa.compute_rdfs_traj_avg(traj_xtb, rmax=5, nbins=50)\n",
    "        rdf_mace = aa.compute_rdfs_traj_avg(traj_mace, rmax=5, nbins=50)\n",
    "\n",
    "        plt.figure(figsize=(5, 3.5))\n",
    "        plt.plot(rdf_xtb[1], rdf_xtb[0][tag], label=\"XTB\", alpha=0.7)\n",
    "        plt.plot(rdf_mace[1], rdf_mace[0][tag], label=\"MACE\", alpha=0.7)\n",
    "        plt.xlabel(r\"R ($\\rm \\AA$)\")\n",
    "        plt.ylabel(f\"RDF {tag}\")\n",
    "        plt.legend()\n",
    "        plt.title(f\"RDF {tag}\")\n",
    "        plt.tight_layout()\n",
    "        plt.savefig(os.path.join(output_dir, f\"rdf_{tag}.png\"), dpi=300)\n",
    "        plt.close()\n",
    "\n",
    "# Plot RDFs\n",
    "rdf_tags = ['HH_intra', 'HC_intra', 'HO_intra', 'CC_intra', 'CO_intra', 'OO_intra']\n",
    "plot_rdfs('moldyn/xtb_md_molecule.xyz', 'moldyn/mace_md_molecule.xyz', rdf_tags)\n",
    "\n"
   ]
  },
  {
   "cell_type": "markdown",
   "id": "fa728e36-76de-4d45-8659-4ceea9dec791",
   "metadata": {},
   "source": [
    "## Molec. Liquid\n",
    "\n",
    "Try to simulate a liquid with the model (XTB can't do these boundary conditions) and evaluate the results.\n"
   ]
  },
  {
   "cell_type": "code",
   "execution_count": 2,
   "id": "15e23530-0e98-481a-ad4f-d511796c681f",
   "metadata": {},
   "outputs": [
    {
     "name": "stderr",
     "output_type": "stream",
     "text": [
      "/tmp/ipykernel_2157033/954310160.py:18: DeprecationWarning: Please use atoms.calc = calc\n",
      "  conf.set_calculator(calc)\n"
     ]
    }
   ],
   "source": [
    "from ase.io import read\n",
    "from mace.calculators import MACECalculator\n",
    "\n",
    "# Read the periodic input configuration\n",
    "init_conf = read(\"data/input2.xyz\")\n",
    "init_conf.center()  # recenter atoms (optional)\n",
    "\n",
    "# Assign MACE calculator (float64 recommended for accuracy)\n",
    "mace_calc = MACECalculator(\n",
    "    model_paths=[\"MACE_models/mace_learncurve_train4000_swa_compiled.model\"],\n",
    "    device=\"cuda\", default_dtype=\"float64\"\n",
    ")\n",
    "\n",
    "# Run dynamics for 5 ps at 500 K (T01 suggested this setup)\n",
    "mace_t, mace_temp, mace_E = run_md(\n",
    "    name=\"mace_md_input2\", \n",
    "    init_conf=init_conf, \n",
    "    temp=500, \n",
    "    calc=mace_calc, \n",
    "    steps=5000,  # 5 ps\n",
    "    interval=10\n",
    ")\n"
   ]
  },
  {
   "cell_type": "code",
   "execution_count": 3,
   "id": "d2f0524e-f899-4d3b-927b-5c3ee25e525f",
   "metadata": {},
   "outputs": [],
   "source": [
    "from ase.io import read\n",
    "from aseMolec import anaAtoms as aa\n",
    "\n",
    "traj = read(\"moldyn/mace_md_input2.xyz\", \"50:\")  # skip initial frames\n",
    "\n",
    "# Set fake box if necessary (if ASE complains)\n",
    "for at in traj:\n",
    "    at.pbc = True\n",
    "    at.cell = [100, 100, 100]\n",
    "\n",
    "rdf = aa.compute_rdfs_traj_avg(traj, rmax=5, nbins=50)\n",
    "\n",
    "# Plot RDF for some intermolecular tags\n",
    "for tag in ['HO_inter', 'OO_inter', 'CC_inter']:\n",
    "    plt.plot(rdf[1], rdf[0][tag], label=tag)\n",
    "    plt.xlabel(r\"R ($\\rm \\AA$)\")\n",
    "    plt.ylabel(f\"RDF {tag}\")\n",
    "    plt.legend()\n",
    "    plt.savefig(f\"moldyn/input2_rdf_{tag}.png\", dpi=300)\n",
    "    plt.close()\n"
   ]
  },
  {
   "cell_type": "code",
   "execution_count": 5,
   "id": "d5bcacf9-b7c2-4c5f-a376-9bb56eb0e859",
   "metadata": {},
   "outputs": [
    {
     "name": "stdout",
     "output_type": "stream",
     "text": [
      "✔  wrote moldyn/msd_mace_input2.dat  with 501 lines\n",
      "✔  wrote moldyn/msd_mace_input2.png\n"
     ]
    }
   ],
   "source": [
    "!python3 MSD.py moldyn/mace_md_input2.xyz --out moldyn/msd_mace_input2.dat --dt 1 --png moldyn/msd_mace_input2.png --skip 1"
   ]
  },
  {
   "cell_type": "code",
   "execution_count": null,
   "id": "599e1a73-1968-474d-97a6-a727d2452ec0",
   "metadata": {},
   "outputs": [],
   "source": []
  }
 ],
 "metadata": {
  "kernelspec": {
   "display_name": "Python 3 (ipykernel)",
   "language": "python",
   "name": "python3"
  },
  "language_info": {
   "codemirror_mode": {
    "name": "ipython",
    "version": 3
   },
   "file_extension": ".py",
   "mimetype": "text/x-python",
   "name": "python",
   "nbconvert_exporter": "python",
   "pygments_lexer": "ipython3",
   "version": "3.10.12"
  }
 },
 "nbformat": 4,
 "nbformat_minor": 5
}
